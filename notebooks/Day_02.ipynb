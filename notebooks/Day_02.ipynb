{
 "cells": [
  {
   "cell_type": "markdown",
   "metadata": {},
   "source": [
    "# Question 4\n",
    "\n",
    "### **Question:**\n",
    "\n",
    "> **_Write a program which accepts a sequence of comma-separated numbers from console and generate a list and a tuple which contains every number.Suppose the following input is supplied to the program:_**\n",
    "\n",
    "\n",
    "34,67,55,33,12,98\n",
    "\n",
    "\n",
    "> **_Then, the output should be:_**\n",
    "\n",
    "\n",
    "['34', '67', '55', '33', '12', '98']\n",
    "('34', '67', '55', '33', '12', '98')\n",
    "\n",
    "\n",
    "### Hints:\n",
    "\n",
    "> **_In case of input data being supplied to the question, it should be assumed to be a console input.tuple() method can convert list to tuple_**\n",
    "\n",
    "---\n",
    "\n",
    "\n",
    "\n",
    "**Solutions:**"
   ]
  },
  {
   "cell_type": "code",
   "execution_count": 1,
   "metadata": {},
   "outputs": [
    {
     "name": "stdout",
     "output_type": "stream",
     "text": [
      "Enter a sequence of comma-separated numbers: 3,4,6,8,2\n",
      "['3', '4', '6', '8', '2'] ('3', '4', '6', '8', '2')\n"
     ]
    }
   ],
   "source": [
    "x = input('Enter a sequence of comma-separated numbers: ')\n",
    "x_lst = []\n",
    "for i in x:\n",
    "    if i == ',':\n",
    "        continue\n",
    "    x_lst.append(i)\n",
    "x_tup = tuple(x_lst)\n",
    "print(x_lst,x_tup)"
   ]
  },
  {
   "cell_type": "markdown",
   "metadata": {},
   "source": [
    "---\n",
    "\n",
    "# Question 5\n",
    "\n",
    "### **Question:**\n",
    "\n",
    "> **_Define a class which has at least two methods:_**\n",
    ">\n",
    "> - **_getString: to get a string from console input_**\n",
    "> - **_printString: to print the string in upper case._**\n",
    "\n",
    "> **_Also please include simple test function to test the class methods._**\n",
    "\n",
    "### Hints:\n",
    "\n",
    "> **_Use **init** method to construct some parameters_**\n",
    "\n",
    "---\n",
    "\n",
    "\n",
    "\n",
    "**Solutions:**"
   ]
  },
  {
   "cell_type": "code",
   "execution_count": 2,
   "metadata": {},
   "outputs": [],
   "source": [
    "class Demo():\n",
    "    def __init__(self):\n",
    "        pass\n",
    "    \n",
    "    def getString(self):\n",
    "        self.msg = input('Enter something: ')\n",
    "    \n",
    "    def printString(self):\n",
    "        if hasattr(self, 'msg'):\n",
    "            print(self.msg.upper())\n",
    "        else:\n",
    "            raise AttributeError('No message created yet.')"
   ]
  },
  {
   "cell_type": "code",
   "execution_count": 3,
   "metadata": {},
   "outputs": [
    {
     "name": "stdout",
     "output_type": "stream",
     "text": [
      "Enter something: hbciabibidoaai\n"
     ]
    }
   ],
   "source": [
    "a = Demo()\n",
    "a.getString()"
   ]
  },
  {
   "cell_type": "code",
   "execution_count": 4,
   "metadata": {},
   "outputs": [
    {
     "data": {
      "text/plain": [
       "'hbciabibidoaai'"
      ]
     },
     "execution_count": 4,
     "metadata": {},
     "output_type": "execute_result"
    }
   ],
   "source": [
    "a.msg"
   ]
  },
  {
   "cell_type": "code",
   "execution_count": 5,
   "metadata": {},
   "outputs": [
    {
     "name": "stdout",
     "output_type": "stream",
     "text": [
      "HBCIABIBIDOAAI\n"
     ]
    }
   ],
   "source": [
    "a.printString()"
   ]
  },
  {
   "cell_type": "markdown",
   "metadata": {},
   "source": [
    "---\n",
    "\n",
    "# Question 6\n",
    "\n",
    "### **Question:**\n",
    "\n",
    "> **_Write a program that calculates and prints the value according to the given formula:_**\n",
    "\n",
    "> **_Q = Square root of [(2 _ C _ D)/H]_**\n",
    "\n",
    "> **_Following are the fixed values of C and H:_**\n",
    "\n",
    "> **_C is 50. H is 30._**\n",
    "\n",
    "> **_D is the variable whose values should be input to your program in a comma-separated sequence.For example\n",
    "> Let us assume the following comma separated input sequence is given to the program:_**\n",
    "\n",
    "\n",
    "100,150,180\n",
    "\n",
    "\n",
    "> **_The output of the program should be:_**\n",
    "\n",
    "\n",
    "18,22,24\n",
    "\n",
    "\n",
    "---\n",
    "\n",
    "### Hints:\n",
    "\n",
    "> **_If the output received is in decimal form, it should be rounded off to its nearest value (for example, if the output received is 26.0, it should be printed as 26).In case of input data being supplied to the question, it should be assumed to be a console input._**\n",
    "\n",
    "---\n",
    "\n",
    "\n",
    "\n",
    "**Solutions:**"
   ]
  },
  {
   "cell_type": "code",
   "execution_count": 6,
   "metadata": {},
   "outputs": [],
   "source": [
    "def formula():\n",
    "    C = 50\n",
    "    H = 30\n",
    "    D = input('Enter a sequence of comma-separated values: ')\n",
    "    output = []\n",
    "    for d in D.split(','):\n",
    "        result = int(((2 * C * float(d))/H)**(1/2))\n",
    "        output.append(str(result))\n",
    "    print(','.join(output))"
   ]
  },
  {
   "cell_type": "code",
   "execution_count": 7,
   "metadata": {},
   "outputs": [
    {
     "name": "stdout",
     "output_type": "stream",
     "text": [
      "Enter a sequence of comma-separated values: 3,1,4,1,5,9,2,6\n",
      "3,1,3,1,4,5,2,4\n"
     ]
    }
   ],
   "source": [
    "formula()"
   ]
  },
  {
   "cell_type": "markdown",
   "metadata": {},
   "source": [
    "---\n",
    "\n",
    "# Question 7\n",
    "\n",
    "### **Question:**\n",
    "\n",
    "> **_Write a program which takes 2 digits, X,Y as input and generates a 2-dimensional array. The element value in the i-th row and j-th column of the array should be i _ j.\\***\n",
    "\n",
    "> **_Note: i=0,1.., X-1; j=0,1,¡­Y-1. Suppose the following inputs are given to the program: 3,5_**\n",
    "\n",
    "> **_Then, the output of the program should be:_**\n",
    "\n",
    "\n",
    "[[0, 0, 0, 0, 0], [0, 1, 2, 3, 4], [0, 2, 4, 6, 8]]\n",
    "\n",
    "\n",
    "---\n",
    "\n",
    "### Hints:\n",
    "\n",
    "> **_Note: In case of input data being supplied to the question, it should be assumed to be a console input in a comma-separated form._**\n",
    "\n",
    "---\n",
    "\n",
    "\n",
    "\n",
    "**Solutions:**"
   ]
  },
  {
   "cell_type": "code",
   "execution_count": 8,
   "metadata": {},
   "outputs": [
    {
     "data": {
      "text/plain": [
       "[[0, 0, 0, 0, 0], [0, 1, 2, 3, 4], [0, 2, 4, 6, 8]]"
      ]
     },
     "execution_count": 8,
     "metadata": {},
     "output_type": "execute_result"
    }
   ],
   "source": [
    "def create_mat(x, y):\n",
    "    mat = []\n",
    "    for i in range(x):\n",
    "        row_i = []\n",
    "        for j in range(y):\n",
    "            element = i * j\n",
    "            row_i.append(element)\n",
    "        mat.append(row_i)\n",
    "    return mat\n",
    "create_mat(3, 5)"
   ]
  },
  {
   "cell_type": "markdown",
   "metadata": {},
   "source": [
    "---\n",
    "\n",
    "# Question 8\n",
    "\n",
    "### **Question:**\n",
    "\n",
    "> **_Write a program that accepts a comma separated sequence of words as input and prints the words in a comma-separated sequence after sorting them alphabetically._**\n",
    "\n",
    "> **_Suppose the following input is supplied to the program:_**\n",
    "\n",
    "\n",
    "without,hello,bag,world\n",
    "\n",
    "\n",
    "> **_Then, the output should be:_**\n",
    "\n",
    "\n",
    "bag,hello,without,world\n",
    "\n",
    "\n",
    "---\n",
    "\n",
    "### Hints:\n",
    "\n",
    "> **_In case of input data being supplied to the question, it should be assumed to be a console input._**\n",
    "\n",
    "---\n",
    "\n",
    "\n",
    "\n",
    "**Solutions:**"
   ]
  },
  {
   "cell_type": "code",
   "execution_count": 9,
   "metadata": {},
   "outputs": [
    {
     "name": "stdout",
     "output_type": "stream",
     "text": [
      "Enter a sequence of words: google,cloud,computing\n"
     ]
    },
    {
     "data": {
      "text/plain": [
       "['cloud', 'computing', 'google']"
      ]
     },
     "execution_count": 9,
     "metadata": {},
     "output_type": "execute_result"
    }
   ],
   "source": [
    "def sort_words():\n",
    "    words = input('Enter a sequence of words: ')\n",
    "    word_lst = words.strip().split(',')\n",
    "    return sorted(word_lst)\n",
    "sort_words()"
   ]
  },
  {
   "cell_type": "markdown",
   "metadata": {},
   "source": [
    "---\n",
    "\n",
    "# Question 9\n",
    "\n",
    "### **Question:**\n",
    "\n",
    "> **_Write a program that accepts sequence of lines as input and prints the lines after making all characters in the sentence capitalized._**\n",
    "\n",
    "> **_Suppose the following input is supplied to the program:_**\n",
    "\n",
    "\n",
    "Hello world\n",
    "\n",
    "Practice makes perfect\n",
    "\n",
    "\n",
    "> **_Then, the output should be:_**\n",
    "\n",
    "\n",
    "HELLO WORLD\n",
    "\n",
    "PRACTICE MAKES PERFECT\n",
    "\n",
    "\n",
    "---\n",
    "\n",
    "### Hints:\n",
    "\n",
    "> **_In case of input data being supplied to the question, it should be assumed to be a console input._**\n",
    "\n",
    "---\n",
    "\n",
    "\n",
    "\n",
    "**Solutions:**"
   ]
  },
  {
   "cell_type": "code",
   "execution_count": 10,
   "metadata": {},
   "outputs": [
    {
     "name": "stdout",
     "output_type": "stream",
     "text": [
      "Enter something: jvbalibvaobfew,vbfabbiubfibew,ibvihbriabaiwebfibriw\n",
      "JVBALIBVAOBFEW\n",
      "VBFABBIUBFIBEW\n",
      "IBVIHBRIABAIWEBFIBRIW\n"
     ]
    }
   ],
   "source": [
    "x = input('Enter something: ')\n",
    "x_structured = '\\n'.join(x.split(','))\n",
    "print(x_structured.upper())"
   ]
  },
  {
   "cell_type": "markdown",
   "metadata": {},
   "source": [
    "---"
   ]
  }
 ],
 "metadata": {
  "kernelspec": {
   "display_name": "Python 3",
   "language": "python",
   "name": "python3"
  },
  "language_info": {
   "codemirror_mode": {
    "name": "ipython",
    "version": 3
   },
   "file_extension": ".py",
   "mimetype": "text/x-python",
   "name": "python",
   "nbconvert_exporter": "python",
   "pygments_lexer": "ipython3",
   "version": "3.8.3"
  }
 },
 "nbformat": 4,
 "nbformat_minor": 4
}
