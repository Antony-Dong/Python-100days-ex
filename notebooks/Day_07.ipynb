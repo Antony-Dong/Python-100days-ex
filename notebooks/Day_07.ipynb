{
 "cells": [
  {
   "cell_type": "markdown",
   "metadata": {},
   "source": [
    "# Question 20\n",
    "\n",
    "### **Question:**\n",
    "\n",
    "> **_Define a class with a generator which can iterate the numbers, which are divisible by 7, between a given range 0 and n._**\n",
    "\n",
    "---\n",
    "\n",
    "### Hints:\n",
    "\n",
    "> **_Consider use class, function and comprehension._**\n",
    "\n",
    "---\n",
    "\n",
    "\n",
    "\n",
    "**Triccckkkkkkyyyy**"
   ]
  },
  {
   "cell_type": "code",
   "execution_count": 1,
   "metadata": {
    "scrolled": true
   },
   "outputs": [
    {
     "name": "stdout",
     "output_type": "stream",
     "text": [
      "Please enter a positive integer: 120\n",
      "0\n",
      "7\n",
      "14\n",
      "21\n",
      "28\n",
      "35\n",
      "42\n",
      "49\n",
      "56\n",
      "63\n",
      "70\n",
      "77\n",
      "84\n",
      "91\n",
      "98\n",
      "105\n",
      "112\n",
      "119\n"
     ]
    }
   ],
   "source": [
    "def divisible_by_7():\n",
    "    end = int(input('Please enter a positive integer: '))\n",
    "    for i in range(0, end + 1):\n",
    "        if i % 7 == 0:\n",
    "            yield i\n",
    "generator = divisible_by_7()\n",
    "for num in generator:\n",
    "    print(num)"
   ]
  },
  {
   "cell_type": "markdown",
   "metadata": {},
   "source": [
    "---"
   ]
  },
  {
   "cell_type": "markdown",
   "metadata": {},
   "source": [
    "---\n",
    "\n",
    "# Question 21\n",
    "\n",
    "### **Question:**\n",
    "\n",
    "> **_A robot moves in a plane starting from the original point (0,0). The robot can move toward UP, DOWN, LEFT and RIGHT with a given steps. The trace of robot movement is shown as the following:_**\n",
    "\n",
    "```\n",
    "UP 5\n",
    "DOWN 3\n",
    "LEFT 3\n",
    "RIGHT 2\n",
    "```\n",
    "> **_The numbers after the direction are steps. Please write a program to compute the distance from current position after a sequence of movement and original point. If the distance is a float, then just print the nearest integer._**\n",
    "> **_Example:_**\n",
    "> **_If the following tuples are given as input to the program:_**\n",
    "\n",
    "```\n",
    "UP 5\n",
    "DOWN 3\n",
    "LEFT 3\n",
    "RIGHT 2\n",
    "```\n",
    "\n",
    "> **_Then, the output of the program should be:_**\n",
    "\n",
    "```\n",
    "2\n",
    "```\n",
    "---\n",
    "\n",
    "### Hints:\n",
    "\n",
    "> **_In case of input data being supplied to the question, it should be assumed to be a console input.Here distance indicates to euclidean distance.Import math module to use sqrt function._**\n",
    "\n",
    "---\n",
    "\n",
    "\n",
    "\n",
    "**Solutions:**"
   ]
  },
  {
   "cell_type": "code",
   "execution_count": 4,
   "metadata": {},
   "outputs": [
    {
     "name": "stdout",
     "output_type": "stream",
     "text": [
      "Enter instruction (ex. UP 5) or type (quit): up 5\n",
      "Enter instruction (ex. UP 5) or type (quit): down 3\n",
      "Enter instruction (ex. UP 5) or type (quit): left 3\n",
      "Enter instruction (ex. UP 5) or type (quit): right 2\n",
      "Enter instruction (ex. UP 5) or type (quit): quit\n"
     ]
    },
    {
     "data": {
      "text/plain": [
       "2"
      ]
     },
     "execution_count": 4,
     "metadata": {},
     "output_type": "execute_result"
    }
   ],
   "source": [
    "def walking_robot():\n",
    "    origin = [0, 0]\n",
    "    new_loc = origin\n",
    "    while True:\n",
    "        instruction = input('Enter instruction (ex. UP 5) or type (quit): ').split(' ')\n",
    "        if 'quit' in instruction:\n",
    "            break\n",
    "        if instruction[0].upper() == 'UP':\n",
    "            new_loc = [new_loc[0], new_loc[1] + int(instruction[1])]\n",
    "        elif instruction[0].upper() == 'DOWN':\n",
    "            new_loc = [new_loc[0], new_loc[1] - int(instruction[1])]\n",
    "        elif instruction[0].upper() == 'LEFT':\n",
    "            new_loc = [new_loc[0] - int(instruction[1]), new_loc[1]]\n",
    "        elif instruction[0].upper() == 'RIGHT':\n",
    "            new_loc = [new_loc[0] + int(instruction[1]), new_loc[1]]\n",
    "        else:\n",
    "            raise ValueError('Invalid instruction input.')\n",
    "    dist = ((new_loc[0] - origin[0])**2 + (new_loc[1] + origin[1])**2)**(1/2)\n",
    "    return int(dist)\n",
    "walking_robot()"
   ]
  },
  {
   "cell_type": "markdown",
   "metadata": {},
   "source": [
    "---"
   ]
  }
 ],
 "metadata": {
  "kernelspec": {
   "display_name": "Python 3",
   "language": "python",
   "name": "python3"
  },
  "language_info": {
   "codemirror_mode": {
    "name": "ipython",
    "version": 3
   },
   "file_extension": ".py",
   "mimetype": "text/x-python",
   "name": "python",
   "nbconvert_exporter": "python",
   "pygments_lexer": "ipython3",
   "version": "3.8.3"
  }
 },
 "nbformat": 4,
 "nbformat_minor": 4
}
