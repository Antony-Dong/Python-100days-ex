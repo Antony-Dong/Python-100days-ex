{
 "cells": [
  {
   "cell_type": "markdown",
   "metadata": {},
   "source": [
    "# Question 18\n",
    "\n",
    "### **Question:**\n",
    "\n",
    "> **_A website requires the users to input username and password to register. Write a program to check the validity of password input by users._**\n",
    "\n",
    "> **_Following are the criteria for checking the password:_**\n",
    "\n",
    "- **_At least 1 letter between [a-z]_**\n",
    "- **_At least 1 number between [0-9]_**\n",
    "- **_At least 1 letter between [A-Z]_**\n",
    "- **_At least 1 character from [$#@]_**\n",
    "- **_Minimum length of transaction password: 6_**\n",
    "- **_Maximum length of transaction password: 12_**\n",
    "\n",
    "> **_Your program should accept a sequence of comma separated passwords and will check them according to the above criteria. Passwords that match the criteria are to be printed, each separated by a comma._**\n",
    "\n",
    "> **_Example_**\n",
    "\n",
    "> **_If the following passwords are given as input to the program:_**\n",
    "\n",
    "\n",
    "ABd1234@1,a F1#,2w3E*,2We3345\n",
    "\n",
    "\n",
    "> **_Then, the output of the program should be:_**\n",
    "\n",
    "\n",
    "ABd1234@1\n",
    "\n",
    "\n",
    "---\n",
    "\n",
    "### Hints:\n",
    "\n",
    "> **_In case of input data being supplied to the question, it should be assumed to be a console input._**\n",
    "\n",
    "---\n",
    "\n",
    "\n",
    "\n",
    "**Solutions:**"
   ]
  },
  {
   "cell_type": "code",
   "execution_count": 1,
   "metadata": {},
   "outputs": [
    {
     "name": "stdout",
     "output_type": "stream",
     "text": [
      "Enter a sequence of comma-separated passwords: ABd1234@1,a F1#,2w3E*,2We3345\n",
      "ABd1234@1\n"
     ]
    }
   ],
   "source": [
    "def validate_password():\n",
    "    passwords = input('Enter a sequence of comma-separated passwords: ').strip().split(',')\n",
    "    valid_pass = []\n",
    "    for i in passwords:\n",
    "        if len(i) >= 6 and len(i) <= 12:\n",
    "            if all([any([j.isalpha() for j in i]), \n",
    "                   any([j.isupper() for j in i]), \n",
    "                   any([j in '$#@' for j in i])]):\n",
    "                valid_pass.append(i)\n",
    "            else:\n",
    "                pass\n",
    "        else:\n",
    "            continue\n",
    "    return ', '.join(valid_pass)\n",
    "print(validate_password())"
   ]
  },
  {
   "cell_type": "markdown",
   "metadata": {},
   "source": [
    "---\n",
    "\n",
    "# Question 19\n",
    "\n",
    "### **Question:**\n",
    "\n",
    "> **_You are required to write a program to sort the (name, age, score) tuples by ascending order where name is string, age and score are numbers. The tuples are input by console. The sort criteria is:_**\n",
    "\n",
    "- **_1: Sort based on name_**\n",
    "- **_2: Then sort based on age_**\n",
    "- **_3: Then sort by score_**\n",
    "\n",
    "> **_The priority is that name > age > score._**\n",
    "\n",
    "> **_If the following tuples are given as input to the program:_**\n",
    "\n",
    "\n",
    "Tom,19,80\n",
    "\n",
    "John,20,90\n",
    "\n",
    "Jony,17,91\n",
    "\n",
    "Jony,17,93\n",
    "\n",
    "Json,21,85\n",
    "\n",
    "\n",
    "> **_Then, the output of the program should be:_**\n",
    "\n",
    "\n",
    "[('John', '20', '90'), ('Jony', '17', '91'), ('Jony', '17', '93'), ('Json', '21', '85'), ('Tom', '19', '80')]\n",
    "\n",
    "\n",
    "---\n",
    "\n",
    "### Hints:\n",
    "\n",
    "> **_In case of input data being supplied to the question, it should be assumed to be a console input.We use itemgetter to enable multiple sort keys._**\n",
    "\n",
    "---\n",
    "\n",
    "\n",
    "\n",
    "**Solutions:**"
   ]
  },
  {
   "cell_type": "code",
   "execution_count": 2,
   "metadata": {},
   "outputs": [
    {
     "name": "stdout",
     "output_type": "stream",
     "text": [
      "('John', '20', '90'), ('Jony', '17', '91'), ('Jony', '17', '93'), ('Json', '21', '85'), ('Tom', '19', '80')\n",
      "\n",
      "[(\"('John'\", \" '20'\", \" '90')\", \" ('Jony'\", \" '17'\", \" '91')\", \" ('Jony'\", \" '17'\", \" '93')\", \" ('Json'\", \" '21'\", \" '85')\", \" ('Tom'\", \" '19'\", \" '80')\")]\n"
     ]
    }
   ],
   "source": [
    "lst = []\n",
    "while True:\n",
    "    s = input().split(\",\")\n",
    "    if not s[0]:  # breaks for blank input\n",
    "        break\n",
    "    lst.append(tuple(s))\n",
    "\n",
    "lst.sort(\n",
    "    key=lambda x: (x[0], x[1], x[2])\n",
    ")  # here key is defined by lambda and the data is sorted by element priority 0>1>2 in accending order\n",
    "print(lst)"
   ]
  },
  {
   "cell_type": "code",
   "execution_count": null,
   "metadata": {},
   "outputs": [],
   "source": []
  }
 ],
 "metadata": {
  "kernelspec": {
   "display_name": "Python 3",
   "language": "python",
   "name": "python3"
  },
  "language_info": {
   "codemirror_mode": {
    "name": "ipython",
    "version": 3
   },
   "file_extension": ".py",
   "mimetype": "text/x-python",
   "name": "python",
   "nbconvert_exporter": "python",
   "pygments_lexer": "ipython3",
   "version": "3.8.3"
  }
 },
 "nbformat": 4,
 "nbformat_minor": 4
}
