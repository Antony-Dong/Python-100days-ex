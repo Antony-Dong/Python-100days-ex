{
 "cells": [
  {
   "cell_type": "markdown",
   "metadata": {},
   "source": [
    "# Question 16\n",
    "\n",
    "### **Question:**\n",
    "\n",
    "> **_Use a list comprehension to square each odd number in a list. The list is input by a sequence of comma-separated numbers._** >**_Suppose the following input is supplied to the program:_**\n",
    "\n",
    "\n",
    "1,2,3,4,5,6,7,8,9\n",
    "\n",
    "\n",
    "> **_Then, the output should be:_**\n",
    "\n",
    "\n",
    "1,9,25,49,81\n",
    "\n",
    "\n",
    "---\n",
    "\n",
    "### Hints:\n",
    "\n",
    "> **_In case of input data being supplied to the question, it should be assumed to be a console input._**\n",
    "\n",
    "---\n",
    "\n",
    "\n",
    "\n",
    "**Solutions:**"
   ]
  },
  {
   "cell_type": "code",
   "execution_count": 1,
   "metadata": {},
   "outputs": [
    {
     "name": "stdout",
     "output_type": "stream",
     "text": [
      "Enter a sequence of comma-separated numbers: 1,2,3,4,5,6,7,8,9,10,11,12,13\n"
     ]
    },
    {
     "data": {
      "text/plain": [
       "[1, 9, 25, 49, 81, 121, 169]"
      ]
     },
     "execution_count": 1,
     "metadata": {},
     "output_type": "execute_result"
    }
   ],
   "source": [
    "def square_odd():\n",
    "    lst = input('Enter a sequence of comma-separated numbers: ').strip().split(',')\n",
    "    lst = [int(i) for i in lst]\n",
    "    return [j**2 for j in lst if j%2 != 0]\n",
    "square_odd()"
   ]
  },
  {
   "cell_type": "markdown",
   "metadata": {},
   "source": [
    "---\n",
    "\n",
    "**_There were a mistake in the the test case and the solution's whice were notified and fixed with the help of @dwedigital. My warm thanks to him._**\n",
    "\n",
    "# Question 17\n",
    "\n",
    "### **Question:**\n",
    "\n",
    "> **_Write a program that computes the net amount of a bank account based a transaction log from console input. The transaction log format is shown as following:_**\n",
    "\n",
    "```\n",
    "D 100\n",
    "W 200\n",
    "```\n",
    "\n",
    "- D means deposit while W means withdrawal.\n",
    "\n",
    "> **_Suppose the following input is supplied to the program:_**\n",
    "\n",
    "```\n",
    "D 300\n",
    "D 300\n",
    "W 200\n",
    "D 100\n",
    "```\n",
    "\n",
    "> **_Then, the output should be:_**\n",
    "\n",
    "```\n",
    "500\n",
    "```\n",
    "\n",
    "---\n",
    "\n",
    "### Hints:\n",
    "\n",
    "> **_In case of input data being supplied to the question, it should be assumed to be a console input._**\n",
    "\n",
    "---\n",
    "\n",
    "\n",
    "\n",
    "**Solutions:**"
   ]
  },
  {
   "cell_type": "code",
   "execution_count": 2,
   "metadata": {},
   "outputs": [
    {
     "name": "stdout",
     "output_type": "stream",
     "text": [
      "Do you want to D (deposit\\) or W (withdraw\\) or Q (quit\\): w\n",
      "Enter your transaction amount: 10000\n",
      "Do you want to D (deposit\\) or W (withdraw\\) or Q (quit\\): w\n",
      "Enter your transaction amount: 200\n",
      "Do you want to D (deposit\\) or W (withdraw\\) or Q (quit\\): w\n",
      "Enter your transaction amount: 200000\n",
      "Do you want to D (deposit\\) or W (withdraw\\) or Q (quit\\): d\n",
      "Enter your transaction amount: 100000\n",
      "Do you want to D (deposit\\) or W (withdraw\\) or Q (quit\\): q\n"
     ]
    },
    {
     "data": {
      "text/plain": [
       "-110200"
      ]
     },
     "execution_count": 2,
     "metadata": {},
     "output_type": "execute_result"
    }
   ],
   "source": [
    "def deposit_withdraw():\n",
    "    start = True\n",
    "    book = {'D': 0, 'W': 0}\n",
    "    while start:\n",
    "        d_or_w = input('Do you want to D (deposit\\) or W (withdraw\\) or Q (quit\\): ').upper()\n",
    "        if d_or_w == 'Q':\n",
    "            break\n",
    "        amount = input('Enter your transaction amount: ')\n",
    "        book[d_or_w] += int(amount)\n",
    "    return book['D'] - book['W']\n",
    "deposit_withdraw()"
   ]
  },
  {
   "cell_type": "markdown",
   "metadata": {},
   "source": [
    "---"
   ]
  }
 ],
 "metadata": {
  "kernelspec": {
   "display_name": "Python 3",
   "language": "python",
   "name": "python3"
  },
  "language_info": {
   "codemirror_mode": {
    "name": "ipython",
    "version": 3
   },
   "file_extension": ".py",
   "mimetype": "text/x-python",
   "name": "python",
   "nbconvert_exporter": "python",
   "pygments_lexer": "ipython3",
   "version": "3.8.3"
  }
 },
 "nbformat": 4,
 "nbformat_minor": 4
}
